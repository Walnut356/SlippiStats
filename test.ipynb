{
 "cells": [
  {
   "cell_type": "code",
   "execution_count": 1,
   "metadata": {},
   "outputs": [],
   "source": [
    "import slippistats as slp\n",
    "import polars as pl\n",
    "\n",
    "replay = R\"test/Bench Replays/mango_zain_netplay.slp\"\n",
    "\n",
    "thing = slp.StatsComputer(replay).take_hit_compute(slp.Port.P1).to_polars()"
   ]
  },
  {
   "cell_type": "code",
   "execution_count": 2,
   "metadata": {},
   "outputs": [
    {
     "data": {
      "text/html": [
       "<div><style>\n",
       ".dataframe > thead > tr > th,\n",
       ".dataframe > tbody > tr > td {\n",
       "  text-align: right;\n",
       "}\n",
       "</style>\n",
       "<small>shape: (11, 4)</small><table border=\"1\" class=\"dataframe\"><thead><tr><th>character</th><th>opnt_character</th><th>last_hit_by</th><th>count</th></tr><tr><td>str</td><td>str</td><td>str</td><td>u32</td></tr></thead><tbody><tr><td>&quot;FALCO&quot;</td><td>&quot;MARTH&quot;</td><td>&quot;NAIR&quot;</td><td>8</td></tr><tr><td>&quot;FALCO&quot;</td><td>&quot;MARTH&quot;</td><td>&quot;UAIR&quot;</td><td>4</td></tr><tr><td>&quot;FALCO&quot;</td><td>&quot;MARTH&quot;</td><td>&quot;NEUTRAL_SPECIA…</td><td>3</td></tr><tr><td>&quot;FALCO&quot;</td><td>&quot;MARTH&quot;</td><td>&quot;BAIR&quot;</td><td>2</td></tr><tr><td>&quot;FALCO&quot;</td><td>&quot;MARTH&quot;</td><td>&quot;GET_UP_ATTACK_…</td><td>1</td></tr><tr><td>&quot;FALCO&quot;</td><td>&quot;MARTH&quot;</td><td>&quot;FAIR&quot;</td><td>12</td></tr><tr><td>&quot;FALCO&quot;</td><td>&quot;MARTH&quot;</td><td>&quot;SIDE_SMASH&quot;</td><td>3</td></tr><tr><td>&quot;FALCO&quot;</td><td>&quot;MARTH&quot;</td><td>&quot;UP_THROW&quot;</td><td>3</td></tr><tr><td>&quot;FALCO&quot;</td><td>&quot;MARTH&quot;</td><td>&quot;UP_TILT&quot;</td><td>3</td></tr><tr><td>&quot;FALCO&quot;</td><td>&quot;MARTH&quot;</td><td>&quot;DOWN_SPECIAL&quot;</td><td>1</td></tr><tr><td>&quot;FALCO&quot;</td><td>&quot;MARTH&quot;</td><td>&quot;PUMMEL&quot;</td><td>1</td></tr></tbody></table></div>"
      ],
      "text/plain": [
       "shape: (11, 4)\n",
       "┌───────────┬────────────────┬─────────────────┬───────┐\n",
       "│ character ┆ opnt_character ┆ last_hit_by     ┆ count │\n",
       "│ ---       ┆ ---            ┆ ---             ┆ ---   │\n",
       "│ str       ┆ str            ┆ str             ┆ u32   │\n",
       "╞═══════════╪════════════════╪═════════════════╪═══════╡\n",
       "│ FALCO     ┆ MARTH          ┆ NAIR            ┆ 8     │\n",
       "│ FALCO     ┆ MARTH          ┆ UAIR            ┆ 4     │\n",
       "│ FALCO     ┆ MARTH          ┆ NEUTRAL_SPECIAL ┆ 3     │\n",
       "│ FALCO     ┆ MARTH          ┆ BAIR            ┆ 2     │\n",
       "│ …         ┆ …              ┆ …               ┆ …     │\n",
       "│ FALCO     ┆ MARTH          ┆ UP_THROW        ┆ 3     │\n",
       "│ FALCO     ┆ MARTH          ┆ UP_TILT         ┆ 3     │\n",
       "│ FALCO     ┆ MARTH          ┆ DOWN_SPECIAL    ┆ 1     │\n",
       "│ FALCO     ┆ MARTH          ┆ PUMMEL          ┆ 1     │\n",
       "└───────────┴────────────────┴─────────────────┴───────┘"
      ]
     },
     "execution_count": 2,
     "metadata": {},
     "output_type": "execute_result"
    }
   ],
   "source": [
    "thing.groupby(pl.col(\"character\", \"opnt_character\", \"last_hit_by\")).agg(pl.count())"
   ]
  },
  {
   "cell_type": "code",
   "execution_count": 5,
   "metadata": {},
   "outputs": [
    {
     "data": {
      "text/html": [
       "<div><style>\n",
       ".dataframe > thead > tr > th,\n",
       ".dataframe > tbody > tr > td {\n",
       "  text-align: right;\n",
       "}\n",
       "</style>\n",
       "<small>shape: (3, 32)</small><table border=\"1\" class=\"dataframe\"><thead><tr><th>date_time</th><th>slippi_version</th><th>match_id</th><th>match_type</th><th>game_number</th><th>stage</th><th>duration</th><th>result</th><th>port</th><th>connect_code</th><th>character</th><th>costume</th><th>opnt_character</th><th>frame_index</th><th>stocks_remaining</th><th>grounded</th><th>percent</th><th>last_hit_by</th><th>state_before_hit</th><th>crouch_cancel</th><th>hitlag_frames</th><th>stick_regions_during_hitlag</th><th>sdi_inputs</th><th>asdi</th><th>start_pos</th><th>end_pos</th><th>kb_angle</th><th>di_stick_pos</th><th>di_efficacy</th><th>final_kb_angle</th><th>kb_velocity</th><th>final_kb_velocity</th></tr><tr><td>datetime[μs, Etc/UTC]</td><td>str</td><td>str</td><td>str</td><td>i64</td><td>str</td><td>duration[ms]</td><td>str</td><td>str</td><td>str</td><td>str</td><td>str</td><td>str</td><td>i64</td><td>i64</td><td>bool</td><td>f64</td><td>str</td><td>str</td><td>bool</td><td>i64</td><td>list[str]</td><td>list[str]</td><td>str</td><td>list[f64]</td><td>list[f64]</td><td>f64</td><td>list[f64]</td><td>f64</td><td>f64</td><td>list[f64]</td><td>list[f64]</td></tr></thead><tbody><tr><td>2022-05-03 04:53:54 UTC</td><td>&quot;3.12.0&quot;</td><td>null</td><td>&quot;OFFLINE&quot;</td><td>null</td><td>&quot;BATTLEFIELD&quot;</td><td>3m 10s 83ms</td><td>&quot;win&quot;</td><td>&quot;P1&quot;</td><td>&quot;MANG#0&quot;</td><td>&quot;FALCO&quot;</td><td>&quot;TAN&quot;</td><td>&quot;MARTH&quot;</td><td>3073</td><td>3</td><td>false</td><td>24.76</td><td>&quot;UP_THROW&quot;</td><td>&quot;KNEE_BEND&quot;</td><td>false</td><td>0</td><td>[]</td><td>null</td><td>&quot;RIGHT&quot;</td><td>[-33.214001, 19.634117]</td><td>[-40.611198, 10.104822]</td><td>69.49527</td><td>[0.9875, 0.0]</td><td>85.55</td><td>54.096176</td><td>[0.996252, 2.663926]</td><td>[1.667867, 2.303744]</td></tr><tr><td>2022-05-03 04:53:54 UTC</td><td>&quot;3.12.0&quot;</td><td>null</td><td>&quot;OFFLINE&quot;</td><td>null</td><td>&quot;BATTLEFIELD&quot;</td><td>3m 10s 83ms</td><td>&quot;win&quot;</td><td>&quot;P1&quot;</td><td>&quot;MANG#0&quot;</td><td>&quot;FALCO&quot;</td><td>&quot;TAN&quot;</td><td>&quot;MARTH&quot;</td><td>5238</td><td>3</td><td>false</td><td>61.110001</td><td>&quot;UP_THROW&quot;</td><td>&quot;LANDING_AIR_N&quot;</td><td>false</td><td>0</td><td>[]</td><td>null</td><td>&quot;LEFT&quot;</td><td>[-6.962573, 20.310404]</td><td>[-12.499386, 10.104822]</td><td>104.504742</td><td>[-0.9875, 0.0]</td><td>91.39</td><td>120.956462</td><td>[-0.864132, 3.340211]</td><td>[-1.774726, 2.95873]</td></tr><tr><td>2022-05-03 04:53:54 UTC</td><td>&quot;3.12.0&quot;</td><td>null</td><td>&quot;OFFLINE&quot;</td><td>null</td><td>&quot;BATTLEFIELD&quot;</td><td>3m 10s 83ms</td><td>&quot;win&quot;</td><td>&quot;P1&quot;</td><td>&quot;MANG#0&quot;</td><td>&quot;FALCO&quot;</td><td>&quot;TAN&quot;</td><td>&quot;MARTH&quot;</td><td>10330</td><td>1</td><td>false</td><td>22.92</td><td>&quot;UP_THROW&quot;</td><td>&quot;LAND_FALL_SPEC…</td><td>false</td><td>0</td><td>[]</td><td>null</td><td>&quot;UP_LEFT&quot;</td><td>[3.014794, 19.736387]</td><td>[9.917642, 10.104822]</td><td>100.283939</td><td>[-0.675, 0.725]</td><td>28.59</td><td>105.430686</td><td>[-0.501902, 2.766195]</td><td>[-0.748025, 2.710018]</td></tr></tbody></table></div>"
      ],
      "text/plain": [
       "shape: (3, 32)\n",
       "┌─────────┬────────────┬──────────┬──────────┬───┬───────────┬────────────┬───────────┬────────────┐\n",
       "│ date_ti ┆ slippi_ver ┆ match_id ┆ match_ty ┆ … ┆ di_effica ┆ final_kb_a ┆ kb_veloci ┆ final_kb_v │\n",
       "│ me      ┆ sion       ┆ ---      ┆ pe       ┆   ┆ cy        ┆ ngle       ┆ ty        ┆ elocity    │\n",
       "│ ---     ┆ ---        ┆ str      ┆ ---      ┆   ┆ ---       ┆ ---        ┆ ---       ┆ ---        │\n",
       "│ datetim ┆ str        ┆          ┆ str      ┆   ┆ f64       ┆ f64        ┆ list[f64] ┆ list[f64]  │\n",
       "│ e[μs,   ┆            ┆          ┆          ┆   ┆           ┆            ┆           ┆            │\n",
       "│ Etc/UTC ┆            ┆          ┆          ┆   ┆           ┆            ┆           ┆            │\n",
       "│ ]       ┆            ┆          ┆          ┆   ┆           ┆            ┆           ┆            │\n",
       "╞═════════╪════════════╪══════════╪══════════╪═══╪═══════════╪════════════╪═══════════╪════════════╡\n",
       "│ 2022-05 ┆ 3.12.0     ┆ null     ┆ OFFLINE  ┆ … ┆ 85.55     ┆ 54.096176  ┆ [0.996252 ┆ [1.667867, │\n",
       "│ -03 04: ┆            ┆          ┆          ┆   ┆           ┆            ┆ ,         ┆ 2.303744]  │\n",
       "│ 53:54   ┆            ┆          ┆          ┆   ┆           ┆            ┆ 2.663926] ┆            │\n",
       "│ UTC     ┆            ┆          ┆          ┆   ┆           ┆            ┆           ┆            │\n",
       "│ 2022-05 ┆ 3.12.0     ┆ null     ┆ OFFLINE  ┆ … ┆ 91.39     ┆ 120.956462 ┆ [-0.86413 ┆ [-1.774726 │\n",
       "│ -03 04: ┆            ┆          ┆          ┆   ┆           ┆            ┆ 2,        ┆ , 2.95873] │\n",
       "│ 53:54   ┆            ┆          ┆          ┆   ┆           ┆            ┆ 3.340211] ┆            │\n",
       "│ UTC     ┆            ┆          ┆          ┆   ┆           ┆            ┆           ┆            │\n",
       "│ 2022-05 ┆ 3.12.0     ┆ null     ┆ OFFLINE  ┆ … ┆ 28.59     ┆ 105.430686 ┆ [-0.50190 ┆ [-0.748025 │\n",
       "│ -03 04: ┆            ┆          ┆          ┆   ┆           ┆            ┆ 2,        ┆ ,          │\n",
       "│ 53:54   ┆            ┆          ┆          ┆   ┆           ┆            ┆ 2.766195] ┆ 2.710018]  │\n",
       "│ UTC     ┆            ┆          ┆          ┆   ┆           ┆            ┆           ┆            │\n",
       "└─────────┴────────────┴──────────┴──────────┴───┴───────────┴────────────┴───────────┴────────────┘"
      ]
     },
     "execution_count": 5,
     "metadata": {},
     "output_type": "execute_result"
    }
   ],
   "source": [
    "thing.filter(pl.col(\"last_hit_by\") == \"UP_THROW\")"
   ]
  }
 ],
 "metadata": {
  "kernelspec": {
   "display_name": "Python 3",
   "language": "python",
   "name": "python3"
  },
  "language_info": {
   "codemirror_mode": {
    "name": "ipython",
    "version": 3
   },
   "file_extension": ".py",
   "mimetype": "text/x-python",
   "name": "python",
   "nbconvert_exporter": "python",
   "pygments_lexer": "ipython3",
   "version": "3.10.4"
  },
  "orig_nbformat": 4
 },
 "nbformat": 4,
 "nbformat_minor": 2
}
