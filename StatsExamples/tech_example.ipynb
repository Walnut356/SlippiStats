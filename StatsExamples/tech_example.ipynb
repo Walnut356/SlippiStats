{
 "cells": [
  {
   "cell_type": "code",
   "execution_count": 44,
   "metadata": {},
   "outputs": [
    {
     "data": {
      "text/plain": [
       "{'date_time': Datetime(time_unit='us', time_zone='America/Chicago'),\n",
       " 'slippi_version': Utf8,\n",
       " 'match_id': Utf8,\n",
       " 'match_type': Utf8,\n",
       " 'game_number': Int64,\n",
       " 'stage': Utf8,\n",
       " 'duration': Duration(time_unit='ms'),\n",
       " 'result': Utf8,\n",
       " 'port': Utf8,\n",
       " 'connect_code': Utf8,\n",
       " 'character': Utf8,\n",
       " 'costume': Utf8,\n",
       " 'opnt_character': Utf8,\n",
       " 'frame_index': Int64,\n",
       " 'stocks_remaining': Int64,\n",
       " 'tech_type': Utf8,\n",
       " 'was_punished': Boolean,\n",
       " 'position': List(Float64),\n",
       " 'ground_id': Int64,\n",
       " 'is_on_platform': Boolean,\n",
       " 'is_missed_tech': Boolean,\n",
       " 'towards_center': Boolean,\n",
       " 'towards_opponent': Boolean,\n",
       " 'jab_reset': Boolean,\n",
       " 'last_hit_by': Utf8}"
      ]
     },
     "execution_count": 44,
     "metadata": {},
     "output_type": "execute_result"
    }
   ],
   "source": [
    "import polars as pl\n",
    "from pathlib import Path\n",
    "\n",
    "# stats generated from ~1300 replays from 1/1/2023 - 4/30/2023\n",
    "tech = pl.read_parquet(Path(R\"./Output/techs.parquet\"))\n",
    "pl.Config.set_tbl_rows(-1)\n",
    "tech.schema\n"
   ]
  },
  {
   "cell_type": "code",
   "execution_count": 52,
   "metadata": {},
   "outputs": [
    {
     "name": "stdout",
     "output_type": "stream",
     "text": [
      "shape: (2, 2)\n",
      "┌────────────────┬───────┐\n",
      "│ is_missed_tech ┆ count │\n",
      "│ ---            ┆ ---   │\n",
      "│ bool           ┆ u32   │\n",
      "╞════════════════╪═══════╡\n",
      "│ true           ┆ 5405  │\n",
      "│ false          ┆ 5325  │\n",
      "└────────────────┴───────┘\n",
      "shape: (13, 2)\n",
      "┌────────────────────────┬───────┐\n",
      "│ tech_type              ┆ count │\n",
      "│ ---                    ┆ ---   │\n",
      "│ str                    ┆ u32   │\n",
      "╞════════════════════════╪═══════╡\n",
      "│ TECH_IN_PLACE          ┆ 2240  │\n",
      "│ MISSED_TECH            ┆ 2004  │\n",
      "│ TECH_LEFT              ┆ 1596  │\n",
      "│ MISSED_TECH_GET_UP     ┆ 1520  │\n",
      "│ MISSED_TECH_ROLL_LEFT  ┆ 913   │\n",
      "│ TECH_RIGHT             ┆ 867   │\n",
      "│ MISSED_TECH_ROLL_RIGHT ┆ 580   │\n",
      "│ WALL_JUMP_TECH         ┆ 529   │\n",
      "│ GET_UP_ATTACK          ┆ 266   │\n",
      "│ JAB_RESET              ┆ 127   │\n",
      "│ MISSED_WALL_TECH       ┆ 72    │\n",
      "│ WALL_TECH              ┆ 13    │\n",
      "│ MISSED_CEILING_TECH    ┆ 3     │\n",
      "└────────────────────────┴───────┘\n"
     ]
    }
   ],
   "source": [
    "# Total occurances of each tech option\n",
    "type_totals = tech.filter(pl.col(\"character\") == \"FALCO\").groupby(pl.col(\"tech_type\")).agg(\n",
    "    pl.count()\n",
    ").sort(\"count\", descending=True)\n",
    "missed_totals = tech.filter(pl.col(\"character\") == \"FALCO\").groupby(pl.col(\"is_missed_tech\")).agg(\n",
    "    pl.count()\n",
    ").sort(\"count\", descending=True)\n",
    "print(missed_totals)\n",
    "print(type_totals)"
   ]
  },
  {
   "attachments": {},
   "cell_type": "markdown",
   "metadata": {},
   "source": [
    "Seems I miss about 50% of all of my techs. Oof. It's not necessarily the end of the world, because intentionally missing a tech can be a mixup (e.g. vs sheik down throw). I happen to know for a fact though that I do just miss a lot of techs =(\n",
    "\n",
    "It also looks like I favor tech in place, and almost never use getup attacks. Rolls left and right are roughly balanced, but that doesn't mean much on its own. A bit further down, we'll check if I'm teching towards my opponent, and/or towards center stage\n",
    "\n",
    "My wall techs look pretty good, though it doesn't say much about how many I could have had via SDI + walltech (which I know I don't go for often enough)"
   ]
  },
  {
   "cell_type": "code",
   "execution_count": 6,
   "metadata": {},
   "outputs": [
    {
     "data": {
      "text/html": [
       "<div><style>\n",
       ".dataframe > thead > tr > th,\n",
       ".dataframe > tbody > tr > td {\n",
       "  text-align: right;\n",
       "}\n",
       "</style>\n",
       "<small>shape: (3, 2)</small><table border=\"1\" class=\"dataframe\"><thead><tr><th>towards_center</th><th>count</th></tr><tr><td>bool</td><td>u32</td></tr></thead><tbody><tr><td>null</td><td>6774</td></tr><tr><td>false</td><td>2374</td></tr><tr><td>true</td><td>1582</td></tr></tbody></table></div>"
      ],
      "text/plain": [
       "shape: (3, 2)\n",
       "┌────────────────┬───────┐\n",
       "│ towards_center ┆ count │\n",
       "│ ---            ┆ ---   │\n",
       "│ bool           ┆ u32   │\n",
       "╞════════════════╪═══════╡\n",
       "│ null           ┆ 6774  │\n",
       "│ false          ┆ 2374  │\n",
       "│ true           ┆ 1582  │\n",
       "└────────────────┴───────┘"
      ]
     },
     "execution_count": 6,
     "metadata": {},
     "output_type": "execute_result"
    }
   ],
   "source": [
    "# Total techs towards center, nulls are non-tech-rolls\n",
    "tech.filter(pl.col(\"character\") == \"FALCO\").groupby(pl.col(\"towards_center\")).agg(pl.count()).sort(\n",
    "    \"count\", descending=True\n",
    ")"
   ]
  },
  {
   "attachments": {},
   "cell_type": "markdown",
   "metadata": {},
   "source": [
    "Seems I tech in place about twice as often as I tech roll, and I tech roll away from center about 60% more often than towards center. \n",
    "\n",
    "This makes sense as I'm very confident in my recovery and my ability to escape the corner, so I don't mind losing the positional advantage if it means I very likely won't get hit.\n",
    "\n",
    "It can cause some problems though against very high level players who I can't consistently recover against or get out of the corner against. Even if I don't get directly punished for the tech, good players still position themselves well and don't hard commit when they realize I roll towards ledge often. It probably leads to a common feeling I've had where I can never quite \"regain my footing\", since I'm backed into a corner. Players who can consistently edgeguard me tend to roll me in less than 2 minutes as well, probably for this exact reason. I should probably work on incorporating more rolls in, even if I'm likely to get hit, so that I can hopefully SDI/DI myself to the relative safety of a platform or something."
   ]
  },
  {
   "cell_type": "code",
   "execution_count": 7,
   "metadata": {},
   "outputs": [
    {
     "data": {
      "text/html": [
       "<div><style>\n",
       ".dataframe > thead > tr > th,\n",
       ".dataframe > tbody > tr > td {\n",
       "  text-align: right;\n",
       "}\n",
       "</style>\n",
       "<small>shape: (3, 2)</small><table border=\"1\" class=\"dataframe\"><thead><tr><th>towards_opponent</th><th>count</th></tr><tr><td>bool</td><td>u32</td></tr></thead><tbody><tr><td>null</td><td>6774</td></tr><tr><td>false</td><td>2195</td></tr><tr><td>true</td><td>1761</td></tr></tbody></table></div>"
      ],
      "text/plain": [
       "shape: (3, 2)\n",
       "┌──────────────────┬───────┐\n",
       "│ towards_opponent ┆ count │\n",
       "│ ---              ┆ ---   │\n",
       "│ bool             ┆ u32   │\n",
       "╞══════════════════╪═══════╡\n",
       "│ null             ┆ 6774  │\n",
       "│ false            ┆ 2195  │\n",
       "│ true             ┆ 1761  │\n",
       "└──────────────────┴───────┘"
      ]
     },
     "execution_count": 7,
     "metadata": {},
     "output_type": "execute_result"
    }
   ],
   "source": [
    "# Total techs towards opponent, nulls are non-tech-rolls\n",
    "tech.filter(pl.col(\"character\") == \"FALCO\").groupby(pl.col(\"towards_opponent\")).agg(pl.count()).sort(\n",
    "    \"count\", descending=True\n",
    ")"
   ]
  },
  {
   "attachments": {},
   "cell_type": "markdown",
   "metadata": {},
   "source": [
    "Similar ratios to towards_center, but I do end up rolling towards my opponent slightly more often than towards center. I wonder..."
   ]
  },
  {
   "cell_type": "code",
   "execution_count": 56,
   "metadata": {},
   "outputs": [
    {
     "data": {
      "text/html": [
       "<div><style>\n",
       ".dataframe > thead > tr > th,\n",
       ".dataframe > tbody > tr > td {\n",
       "  text-align: right;\n",
       "}\n",
       "</style>\n",
       "<small>shape: (5, 3)</small><table border=\"1\" class=\"dataframe\"><thead><tr><th>towards_opponent</th><th>towards_center</th><th>count</th></tr><tr><td>bool</td><td>bool</td><td>u32</td></tr></thead><tbody><tr><td>null</td><td>null</td><td>6774</td></tr><tr><td>false</td><td>false</td><td>1904</td></tr><tr><td>true</td><td>true</td><td>1291</td></tr><tr><td>true</td><td>false</td><td>470</td></tr><tr><td>false</td><td>true</td><td>291</td></tr></tbody></table></div>"
      ],
      "text/plain": [
       "shape: (5, 3)\n",
       "┌──────────────────┬────────────────┬───────┐\n",
       "│ towards_opponent ┆ towards_center ┆ count │\n",
       "│ ---              ┆ ---            ┆ ---   │\n",
       "│ bool             ┆ bool           ┆ u32   │\n",
       "╞══════════════════╪════════════════╪═══════╡\n",
       "│ null             ┆ null           ┆ 6774  │\n",
       "│ false            ┆ false          ┆ 1904  │\n",
       "│ true             ┆ true           ┆ 1291  │\n",
       "│ true             ┆ false          ┆ 470   │\n",
       "│ false            ┆ true           ┆ 291   │\n",
       "└──────────────────┴────────────────┴───────┘"
      ]
     },
     "execution_count": 56,
     "metadata": {},
     "output_type": "execute_result"
    }
   ],
   "source": [
    "tech.filter(pl.col(\"character\") == \"FALCO\").groupby(pl.col(\"towards_opponent\", \"towards_center\")).agg(pl.count()).sort(\n",
    "    \"count\", descending=True\n",
    ")"
   ]
  },
  {
   "attachments": {},
   "cell_type": "markdown",
   "metadata": {},
   "source": [
    "The ratios of [towards/away from both] vs [towards one but not the other] makes sense, as it's more likely that your opponent will be closer to center than you after a hit. It looks like overall I favor rolling away from center in general, even if it's away from my opponent. I do this on purpose as an anti-meta pattern, since I know lots of players roll in predictably. As mentioned above though, this might be a more dangerous habit than it's worth against select players."
   ]
  },
  {
   "cell_type": "code",
   "execution_count": 36,
   "metadata": {},
   "outputs": [
    {
     "data": {
      "text/html": [
       "<div><style>\n",
       ".dataframe > thead > tr > th,\n",
       ".dataframe > tbody > tr > td {\n",
       "  text-align: right;\n",
       "}\n",
       "</style>\n",
       "<small>shape: (12, 3)</small><table border=\"1\" class=\"dataframe\"><thead><tr><th>stocks_remaining</th><th>towards_center</th><th>count</th></tr><tr><td>i64</td><td>bool</td><td>u32</td></tr></thead><tbody><tr><td>1</td><td>true</td><td>309</td></tr><tr><td>1</td><td>false</td><td>413</td></tr><tr><td>1</td><td>null</td><td>1236</td></tr><tr><td>2</td><td>null</td><td>1682</td></tr><tr><td>2</td><td>true</td><td>351</td></tr><tr><td>2</td><td>false</td><td>601</td></tr><tr><td>3</td><td>false</td><td>637</td></tr><tr><td>3</td><td>true</td><td>443</td></tr><tr><td>3</td><td>null</td><td>1901</td></tr><tr><td>4</td><td>null</td><td>1955</td></tr><tr><td>4</td><td>false</td><td>723</td></tr><tr><td>4</td><td>true</td><td>479</td></tr></tbody></table></div>"
      ],
      "text/plain": [
       "shape: (12, 3)\n",
       "┌──────────────────┬────────────────┬───────┐\n",
       "│ stocks_remaining ┆ towards_center ┆ count │\n",
       "│ ---              ┆ ---            ┆ ---   │\n",
       "│ i64              ┆ bool           ┆ u32   │\n",
       "╞══════════════════╪════════════════╪═══════╡\n",
       "│ 1                ┆ true           ┆ 309   │\n",
       "│ 1                ┆ false          ┆ 413   │\n",
       "│ 1                ┆ null           ┆ 1236  │\n",
       "│ 2                ┆ null           ┆ 1682  │\n",
       "│ …                ┆ …              ┆ …     │\n",
       "│ 3                ┆ null           ┆ 1901  │\n",
       "│ 4                ┆ null           ┆ 1955  │\n",
       "│ 4                ┆ false          ┆ 723   │\n",
       "│ 4                ┆ true           ┆ 479   │\n",
       "└──────────────────┴────────────────┴───────┘"
      ]
     },
     "execution_count": 36,
     "metadata": {},
     "output_type": "execute_result"
    }
   ],
   "source": [
    "# Techs towards center by stocks remaining\n",
    "tech.filter(pl.col(\"character\") == \"FALCO\").groupby(\"stocks_remaining\", \"towards_center\").agg(pl.count()).sort(\n",
    "    \"stocks_remaining\"\n",
    ")"
   ]
  },
  {
   "attachments": {},
   "cell_type": "markdown",
   "metadata": {},
   "source": [
    "By looking at the statistics by stock, we can check if there are any noticeable patterns that only occur at specific phases in the game. Many players tend to increase their rolls towards center and away from their opponent as they get closer to losing, as a risk aversion measure.\n",
    "\n",
    "| stocks| all techs | rolls\n",
    "--- | --- | ---\n",
    "| 4 | 15.15% | 39.85%\n",
    "| 3 | 14.86% | 41.02%\n",
    "| 2 | 13.33% | 36.86%\n",
    "| 1 | 15.78% | 42.80%\n",
    "\n",
    "It looks like the ratis are all pretty similar, though as always I favor rolling away from center. On my second to last stock though, I roll away noteably more. I wonder if that leads to a higher punish percentage...\n"
   ]
  },
  {
   "cell_type": "code",
   "execution_count": 41,
   "metadata": {},
   "outputs": [
    {
     "data": {
      "text/html": [
       "<div><style>\n",
       ".dataframe > thead > tr > th,\n",
       ".dataframe > tbody > tr > td {\n",
       "  text-align: right;\n",
       "}\n",
       "</style>\n",
       "<small>shape: (2, 2)</small><table border=\"1\" class=\"dataframe\"><thead><tr><th>was_punished</th><th>count</th></tr><tr><td>bool</td><td>u32</td></tr></thead><tbody><tr><td>false</td><td>8649</td></tr><tr><td>true</td><td>2081</td></tr></tbody></table></div>"
      ],
      "text/plain": [
       "shape: (2, 2)\n",
       "┌──────────────┬───────┐\n",
       "│ was_punished ┆ count │\n",
       "│ ---          ┆ ---   │\n",
       "│ bool         ┆ u32   │\n",
       "╞══════════════╪═══════╡\n",
       "│ false        ┆ 8649  │\n",
       "│ true         ┆ 2081  │\n",
       "└──────────────┴───────┘"
      ]
     },
     "execution_count": 41,
     "metadata": {},
     "output_type": "execute_result"
    }
   ],
   "source": [
    "tech.filter(pl.col(\"character\") == \"FALCO\").groupby(pl.col(\"was_punished\")).agg(pl.count())"
   ]
  },
  {
   "attachments": {},
   "cell_type": "markdown",
   "metadata": {},
   "source": [
    "It looks like about 1/5 of my techs are directly punished during the tech animation. Next we can try filtering it by stocks remaining"
   ]
  },
  {
   "cell_type": "code",
   "execution_count": 40,
   "metadata": {},
   "outputs": [
    {
     "data": {
      "text/html": [
       "<div><style>\n",
       ".dataframe > thead > tr > th,\n",
       ".dataframe > tbody > tr > td {\n",
       "  text-align: right;\n",
       "}\n",
       "</style>\n",
       "<small>shape: (8, 3)</small><table border=\"1\" class=\"dataframe\"><thead><tr><th>stocks_remaining</th><th>was_punished</th><th>count</th></tr><tr><td>i64</td><td>bool</td><td>u32</td></tr></thead><tbody><tr><td>1</td><td>true</td><td>389</td></tr><tr><td>1</td><td>false</td><td>1569</td></tr><tr><td>2</td><td>true</td><td>524</td></tr><tr><td>2</td><td>false</td><td>2110</td></tr><tr><td>3</td><td>true</td><td>571</td></tr><tr><td>3</td><td>false</td><td>2410</td></tr><tr><td>4</td><td>true</td><td>597</td></tr><tr><td>4</td><td>false</td><td>2560</td></tr></tbody></table></div>"
      ],
      "text/plain": [
       "shape: (8, 3)\n",
       "┌──────────────────┬──────────────┬───────┐\n",
       "│ stocks_remaining ┆ was_punished ┆ count │\n",
       "│ ---              ┆ ---          ┆ ---   │\n",
       "│ i64              ┆ bool         ┆ u32   │\n",
       "╞══════════════════╪══════════════╪═══════╡\n",
       "│ 1                ┆ true         ┆ 389   │\n",
       "│ 1                ┆ false        ┆ 1569  │\n",
       "│ 2                ┆ true         ┆ 524   │\n",
       "│ 2                ┆ false        ┆ 2110  │\n",
       "│ 3                ┆ true         ┆ 571   │\n",
       "│ 3                ┆ false        ┆ 2410  │\n",
       "│ 4                ┆ true         ┆ 597   │\n",
       "│ 4                ┆ false        ┆ 2560  │\n",
       "└──────────────────┴──────────────┴───────┘"
      ]
     },
     "execution_count": 40,
     "metadata": {},
     "output_type": "execute_result"
    }
   ],
   "source": [
    "tech.filter(pl.col(\"character\") == \"FALCO\").groupby(pl.col(\"stocks_remaining\", \"was_punished\")).agg(pl.count()).sort(pl.col(\"stocks_remaining\"))"
   ]
  },
  {
   "attachments": {},
   "cell_type": "markdown",
   "metadata": {},
   "source": [
    "| stocks | punish % |\n",
    "|---|---|\n",
    "| 4 | 18.91% |\n",
    "| 3 | 21.30% |\n",
    "| 2 | 19.89% |\n",
    "| 1 | 19.87% |\n",
    "\n",
    "I get punished the least on stock 1, which makes sense. It's a fresh game, so it's likely it's a new opponent who doesn't know my habits. \n",
    "\n",
    "There's a small spike on my 3rd stock, which corresponds to a greater number of rolls in. This could be due to me getting \"lazy\" or auto piloting during stock 3. It could also be during a time when they've caught on to my usual patterns and I haven't yet started mixing differently"
   ]
  }
 ],
 "metadata": {
  "kernelspec": {
   "display_name": "Python 3",
   "language": "python",
   "name": "python3"
  },
  "language_info": {
   "codemirror_mode": {
    "name": "ipython",
    "version": 3
   },
   "file_extension": ".py",
   "mimetype": "text/x-python",
   "name": "python",
   "nbconvert_exporter": "python",
   "pygments_lexer": "ipython3",
   "version": "3.11.2"
  },
  "orig_nbformat": 4
 },
 "nbformat": 4,
 "nbformat_minor": 2
}
