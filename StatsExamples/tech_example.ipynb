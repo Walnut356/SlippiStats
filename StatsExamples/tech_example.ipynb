{
 "cells": [
  {
   "cell_type": "code",
   "execution_count": 1,
   "metadata": {},
   "outputs": [
    {
     "data": {
      "text/plain": [
       "{'date_time': Datetime(time_unit='us', time_zone='America/Chicago'),\n",
       " 'slippi_version': Utf8,\n",
       " 'match_id': Utf8,\n",
       " 'match_type': Utf8,\n",
       " 'game_number': Int64,\n",
       " 'stage': Utf8,\n",
       " 'duration': Duration(time_unit='ms'),\n",
       " 'result': Utf8,\n",
       " 'port': Utf8,\n",
       " 'connect_code': Utf8,\n",
       " 'character': Utf8,\n",
       " 'costume': Utf8,\n",
       " 'opnt_character': Utf8,\n",
       " 'frame_index': Int64,\n",
       " 'stocks_remaining': Int64,\n",
       " 'tech_type': Utf8,\n",
       " 'was_punished': Boolean,\n",
       " 'position': List(Float64),\n",
       " 'ground_id': Int64,\n",
       " 'is_on_platform': Boolean,\n",
       " 'is_missed_tech': Boolean,\n",
       " 'towards_center': Boolean,\n",
       " 'towards_opponent': Boolean,\n",
       " 'jab_reset': Boolean,\n",
       " 'last_hit_by': Utf8}"
      ]
     },
     "execution_count": 1,
     "metadata": {},
     "output_type": "execute_result"
    }
   ],
   "source": [
    "import polars as pl\n",
    "from pathlib import Path\n",
    "\n",
    "# stats generated from ~1300 replays from 1/1/2023 - 4/30/2023\n",
    "tech = pl.read_parquet(Path(R\".\\Output\\techs.parquet\"))\n",
    "tech.schema"
   ]
  },
  {
   "cell_type": "code",
   "execution_count": 2,
   "metadata": {},
   "outputs": [
    {
     "data": {
      "text/html": [
       "<div><style>\n",
       ".dataframe > thead > tr > th,\n",
       ".dataframe > tbody > tr > td {\n",
       "  text-align: right;\n",
       "}\n",
       "</style>\n",
       "<small>shape: (13, 2)</small><table border=\"1\" class=\"dataframe\"><thead><tr><th>tech_type</th><th>count</th></tr><tr><td>str</td><td>u32</td></tr></thead><tbody><tr><td>&quot;TECH_IN_PLACE&quot;</td><td>2240</td></tr><tr><td>&quot;MISSED_TECH&quot;</td><td>2004</td></tr><tr><td>&quot;TECH_LEFT&quot;</td><td>1596</td></tr><tr><td>&quot;MISSED_TECH_GE…</td><td>1520</td></tr><tr><td>&quot;MISSED_TECH_RO…</td><td>913</td></tr><tr><td>&quot;TECH_RIGHT&quot;</td><td>867</td></tr><tr><td>&quot;MISSED_TECH_RO…</td><td>580</td></tr><tr><td>&quot;WALL_JUMP_TECH…</td><td>529</td></tr><tr><td>&quot;GET_UP_ATTACK&quot;</td><td>266</td></tr><tr><td>&quot;JAB_RESET&quot;</td><td>127</td></tr><tr><td>&quot;MISSED_WALL_TE…</td><td>72</td></tr><tr><td>&quot;WALL_TECH&quot;</td><td>13</td></tr><tr><td>&quot;MISSED_CEILING…</td><td>3</td></tr></tbody></table></div>"
      ],
      "text/plain": [
       "shape: (13, 2)\n",
       "┌─────────────────────┬───────┐\n",
       "│ tech_type           ┆ count │\n",
       "│ ---                 ┆ ---   │\n",
       "│ str                 ┆ u32   │\n",
       "╞═════════════════════╪═══════╡\n",
       "│ TECH_IN_PLACE       ┆ 2240  │\n",
       "│ MISSED_TECH         ┆ 2004  │\n",
       "│ TECH_LEFT           ┆ 1596  │\n",
       "│ MISSED_TECH_GET_UP  ┆ 1520  │\n",
       "│ …                   ┆ …     │\n",
       "│ JAB_RESET           ┆ 127   │\n",
       "│ MISSED_WALL_TECH    ┆ 72    │\n",
       "│ WALL_TECH           ┆ 13    │\n",
       "│ MISSED_CEILING_TECH ┆ 3     │\n",
       "└─────────────────────┴───────┘"
      ]
     },
     "execution_count": 2,
     "metadata": {},
     "output_type": "execute_result"
    }
   ],
   "source": [
    "# Total occurances of each tech option\n",
    "tech.filter(pl.col(\"character\") == \"FALCO\").groupby(pl.col(\"tech_type\")).agg(pl.count()).sort(\"count\", descending=True)"
   ]
  },
  {
   "cell_type": "code",
   "execution_count": 3,
   "metadata": {},
   "outputs": [
    {
     "data": {
      "text/html": [
       "<div><style>\n",
       ".dataframe > thead > tr > th,\n",
       ".dataframe > tbody > tr > td {\n",
       "  text-align: right;\n",
       "}\n",
       "</style>\n",
       "<small>shape: (3, 2)</small><table border=\"1\" class=\"dataframe\"><thead><tr><th>towards_center</th><th>count</th></tr><tr><td>bool</td><td>u32</td></tr></thead><tbody><tr><td>null</td><td>6774</td></tr><tr><td>false</td><td>2374</td></tr><tr><td>true</td><td>1582</td></tr></tbody></table></div>"
      ],
      "text/plain": [
       "shape: (3, 2)\n",
       "┌────────────────┬───────┐\n",
       "│ towards_center ┆ count │\n",
       "│ ---            ┆ ---   │\n",
       "│ bool           ┆ u32   │\n",
       "╞════════════════╪═══════╡\n",
       "│ null           ┆ 6774  │\n",
       "│ false          ┆ 2374  │\n",
       "│ true           ┆ 1582  │\n",
       "└────────────────┴───────┘"
      ]
     },
     "execution_count": 3,
     "metadata": {},
     "output_type": "execute_result"
    }
   ],
   "source": [
    "# Total techs towards center, nulls are non-tech-rolls\n",
    "tech.filter(pl.col(\"character\") == \"FALCO\").groupby(pl.col(\"towards_center\")).agg(pl.count()).sort(\"count\", descending=True)"
   ]
  },
  {
   "cell_type": "code",
   "execution_count": 4,
   "metadata": {},
   "outputs": [
    {
     "data": {
      "text/html": [
       "<div><style>\n",
       ".dataframe > thead > tr > th,\n",
       ".dataframe > tbody > tr > td {\n",
       "  text-align: right;\n",
       "}\n",
       "</style>\n",
       "<small>shape: (3, 2)</small><table border=\"1\" class=\"dataframe\"><thead><tr><th>towards_opponent</th><th>count</th></tr><tr><td>bool</td><td>u32</td></tr></thead><tbody><tr><td>null</td><td>6774</td></tr><tr><td>false</td><td>2195</td></tr><tr><td>true</td><td>1761</td></tr></tbody></table></div>"
      ],
      "text/plain": [
       "shape: (3, 2)\n",
       "┌──────────────────┬───────┐\n",
       "│ towards_opponent ┆ count │\n",
       "│ ---              ┆ ---   │\n",
       "│ bool             ┆ u32   │\n",
       "╞══════════════════╪═══════╡\n",
       "│ null             ┆ 6774  │\n",
       "│ false            ┆ 2195  │\n",
       "│ true             ┆ 1761  │\n",
       "└──────────────────┴───────┘"
      ]
     },
     "execution_count": 4,
     "metadata": {},
     "output_type": "execute_result"
    }
   ],
   "source": [
    "# Total techs towards opponent, nulls are non-tech-rolls\n",
    "tech.filter(pl.col(\"character\") == \"FALCO\").groupby(pl.col(\"towards_opponent\")).agg(pl.count()).sort(\"count\", descending=True)"
   ]
  }
 ],
 "metadata": {
  "kernelspec": {
   "display_name": "Python 3",
   "language": "python",
   "name": "python3"
  },
  "language_info": {
   "codemirror_mode": {
    "name": "ipython",
    "version": 3
   },
   "file_extension": ".py",
   "mimetype": "text/x-python",
   "name": "python",
   "nbconvert_exporter": "python",
   "pygments_lexer": "ipython3",
   "version": "3.11.2"
  },
  "orig_nbformat": 4
 },
 "nbformat": 4,
 "nbformat_minor": 2
}
