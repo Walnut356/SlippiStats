{
 "cells": [
  {
   "cell_type": "code",
   "execution_count": 1,
   "metadata": {},
   "outputs": [
    {
     "data": {
      "text/plain": [
       "{'date_time': Datetime(time_unit='us', time_zone='America/Chicago'),\n",
       " 'slippi_version': Utf8,\n",
       " 'match_id': Utf8,\n",
       " 'match_type': Utf8,\n",
       " 'game_number': Int64,\n",
       " 'stage': Utf8,\n",
       " 'duration': Duration(time_unit='ms'),\n",
       " 'result': Utf8,\n",
       " 'port': Utf8,\n",
       " 'connect_code': Utf8,\n",
       " 'character': Utf8,\n",
       " 'costume': Utf8,\n",
       " 'opnt_character': Utf8,\n",
       " 'frame_index': Int64,\n",
       " 'stocks_remaining': Int64,\n",
       " 'l_cancel': Boolean,\n",
       " 'trigger_input_frame': Int64,\n",
       " 'during_hitlag': Boolean,\n",
       " 'move': Utf8,\n",
       " 'position': Utf8,\n",
       " 'fastfall': Boolean}"
      ]
     },
     "execution_count": 1,
     "metadata": {},
     "output_type": "execute_result"
    }
   ],
   "source": [
    "import polars as pl\n",
    "from pathlib import Path\n",
    "\n",
    "# stats generated from ~1300 replays from 1/1/2023 - 4/30/2023\n",
    "l_cancel = pl.read_parquet(Path(R\".\\Output\\l_cancels.parquet\"))\n",
    "l_cancel.schema"
   ]
  },
  {
   "cell_type": "code",
   "execution_count": 2,
   "metadata": {},
   "outputs": [
    {
     "data": {
      "text/html": [
       "<div><style>\n",
       ".dataframe > thead > tr > th,\n",
       ".dataframe > tbody > tr > td {\n",
       "  text-align: right;\n",
       "}\n",
       "</style>\n",
       "<small>shape: (2, 2)</small><table border=\"1\" class=\"dataframe\"><thead><tr><th>l_cancel</th><th>count</th></tr><tr><td>bool</td><td>u32</td></tr></thead><tbody><tr><td>false</td><td>3073</td></tr><tr><td>true</td><td>19673</td></tr></tbody></table></div>"
      ],
      "text/plain": [
       "shape: (2, 2)\n",
       "┌──────────┬───────┐\n",
       "│ l_cancel ┆ count │\n",
       "│ ---      ┆ ---   │\n",
       "│ bool     ┆ u32   │\n",
       "╞══════════╪═══════╡\n",
       "│ false    ┆ 3073  │\n",
       "│ true     ┆ 19673 │\n",
       "└──────────┴───────┘"
      ]
     },
     "execution_count": 2,
     "metadata": {},
     "output_type": "execute_result"
    }
   ],
   "source": [
    "# Total l cancels\n",
    "l_cancel.filter(pl.col(\"character\") == \"FALCO\").groupby(\"l_cancel\").agg(pl.count())"
   ]
  },
  {
   "cell_type": "code",
   "execution_count": 3,
   "metadata": {},
   "outputs": [
    {
     "data": {
      "text/html": [
       "<div><style>\n",
       ".dataframe > thead > tr > th,\n",
       ".dataframe > tbody > tr > td {\n",
       "  text-align: right;\n",
       "}\n",
       "</style>\n",
       "<small>shape: (4, 2)</small><table border=\"1\" class=\"dataframe\"><thead><tr><th>character</th><th>l_cancel</th></tr><tr><td>str</td><td>f64</td></tr></thead><tbody><tr><td>&quot;CAPTAIN_FALCON…</td><td>0.809929</td></tr><tr><td>&quot;FALCO&quot;</td><td>0.864899</td></tr><tr><td>&quot;FOX&quot;</td><td>0.807692</td></tr><tr><td>&quot;MARTH&quot;</td><td>0.819138</td></tr></tbody></table></div>"
      ],
      "text/plain": [
       "shape: (4, 2)\n",
       "┌────────────────┬──────────┐\n",
       "│ character      ┆ l_cancel │\n",
       "│ ---            ┆ ---      │\n",
       "│ str            ┆ f64      │\n",
       "╞════════════════╪══════════╡\n",
       "│ CAPTAIN_FALCON ┆ 0.809929 │\n",
       "│ FALCO          ┆ 0.864899 │\n",
       "│ FOX            ┆ 0.807692 │\n",
       "│ MARTH          ┆ 0.819138 │\n",
       "└────────────────┴──────────┘"
      ]
     },
     "execution_count": 3,
     "metadata": {},
     "output_type": "execute_result"
    }
   ],
   "source": [
    "# L cancel percent by character\n",
    "l_cancel.groupby(\"character\").agg(pl.col(\"l_cancel\").mean())"
   ]
  },
  {
   "cell_type": "code",
   "execution_count": 4,
   "metadata": {},
   "outputs": [
    {
     "data": {
      "text/html": [
       "<div><style>\n",
       ".dataframe > thead > tr > th,\n",
       ".dataframe > tbody > tr > td {\n",
       "  text-align: right;\n",
       "}\n",
       "</style>\n",
       "<small>shape: (5, 2)</small><table border=\"1\" class=\"dataframe\"><thead><tr><th>move</th><th>l_cancel</th></tr><tr><td>str</td><td>f64</td></tr></thead><tbody><tr><td>&quot;BAIR&quot;</td><td>0.787123</td></tr><tr><td>&quot;DAIR&quot;</td><td>0.873635</td></tr><tr><td>&quot;NAIR&quot;</td><td>0.903505</td></tr><tr><td>&quot;FAIR&quot;</td><td>0.817797</td></tr><tr><td>&quot;UAIR&quot;</td><td>0.865533</td></tr></tbody></table></div>"
      ],
      "text/plain": [
       "shape: (5, 2)\n",
       "┌──────┬──────────┐\n",
       "│ move ┆ l_cancel │\n",
       "│ ---  ┆ ---      │\n",
       "│ str  ┆ f64      │\n",
       "╞══════╪══════════╡\n",
       "│ BAIR ┆ 0.787123 │\n",
       "│ DAIR ┆ 0.873635 │\n",
       "│ NAIR ┆ 0.903505 │\n",
       "│ FAIR ┆ 0.817797 │\n",
       "│ UAIR ┆ 0.865533 │\n",
       "└──────┴──────────┘"
      ]
     },
     "execution_count": 4,
     "metadata": {},
     "output_type": "execute_result"
    }
   ],
   "source": [
    "# L cancel percentage by move\n",
    "l_cancel.filter(pl.col(\"character\") == \"FALCO\").groupby(pl.col(\"move\")).agg([pl.col(\"l_cancel\").mean()])"
   ]
  },
  {
   "cell_type": "code",
   "execution_count": 5,
   "metadata": {},
   "outputs": [
    {
     "data": {
      "text/html": [
       "<div><style>\n",
       ".dataframe > thead > tr > th,\n",
       ".dataframe > tbody > tr > td {\n",
       "  text-align: right;\n",
       "}\n",
       "</style>\n",
       "<small>shape: (5, 3)</small><table border=\"1\" class=\"dataframe\"><thead><tr><th>position</th><th>l_cancel</th><th>count</th></tr><tr><td>str</td><td>f64</td><td>u32</td></tr></thead><tbody><tr><td>&quot;RIGHT_PLATFORM…</td><td>0.703523</td><td>1022</td></tr><tr><td>&quot;RANDALL&quot;</td><td>0.375</td><td>8</td></tr><tr><td>&quot;LEFT_PLATFORM&quot;</td><td>0.676749</td><td>1058</td></tr><tr><td>&quot;MAIN_STAGE&quot;</td><td>0.892154</td><td>19769</td></tr><tr><td>&quot;TOP_PLATFORM&quot;</td><td>0.672666</td><td>889</td></tr></tbody></table></div>"
      ],
      "text/plain": [
       "shape: (5, 3)\n",
       "┌────────────────┬──────────┬───────┐\n",
       "│ position       ┆ l_cancel ┆ count │\n",
       "│ ---            ┆ ---      ┆ ---   │\n",
       "│ str            ┆ f64      ┆ u32   │\n",
       "╞════════════════╪══════════╪═══════╡\n",
       "│ RIGHT_PLATFORM ┆ 0.703523 ┆ 1022  │\n",
       "│ RANDALL        ┆ 0.375    ┆ 8     │\n",
       "│ LEFT_PLATFORM  ┆ 0.676749 ┆ 1058  │\n",
       "│ MAIN_STAGE     ┆ 0.892154 ┆ 19769 │\n",
       "│ TOP_PLATFORM   ┆ 0.672666 ┆ 889   │\n",
       "└────────────────┴──────────┴───────┘"
      ]
     },
     "execution_count": 5,
     "metadata": {},
     "output_type": "execute_result"
    }
   ],
   "source": [
    "( # l cancel percentage based on landing location\n",
    "    l_cancel.filter(pl.col(\"character\") == \"FALCO\")\n",
    "    .groupby(pl.col(\"position\"))\n",
    "    .agg([pl.col(\"l_cancel\").mean(), pl.count()])\n",
    ")"
   ]
  },
  {
   "cell_type": "code",
   "execution_count": 6,
   "metadata": {},
   "outputs": [
    {
     "data": {
      "text/html": [
       "<div><style>\n",
       ".dataframe > thead > tr > th,\n",
       ".dataframe > tbody > tr > td {\n",
       "  text-align: right;\n",
       "}\n",
       "</style>\n",
       "<small>shape: (24, 3)</small><table border=\"1\" class=\"dataframe\"><thead><tr><th>opnt_character</th><th>l_cancel</th><th>count</th></tr><tr><td>str</td><td>f64</td><td>u32</td></tr></thead><tbody><tr><td>&quot;FOX&quot;</td><td>0.866252</td><td>7073</td></tr><tr><td>&quot;FALCO&quot;</td><td>0.867229</td><td>3909</td></tr><tr><td>&quot;CAPTAIN_FALCON…</td><td>0.880541</td><td>3181</td></tr><tr><td>&quot;MARTH&quot;</td><td>0.864424</td><td>2884</td></tr><tr><td>&quot;SHEIK&quot;</td><td>0.837912</td><td>1820</td></tr><tr><td>&quot;PEACH&quot;</td><td>0.855053</td><td>752</td></tr><tr><td>&quot;JIGGLYPUFF&quot;</td><td>0.841463</td><td>410</td></tr><tr><td>&quot;DR_MARIO&quot;</td><td>0.872</td><td>375</td></tr><tr><td>&quot;LUIGI&quot;</td><td>0.87062</td><td>371</td></tr><tr><td>&quot;LINK&quot;</td><td>0.910345</td><td>290</td></tr><tr><td>&quot;GANONDORF&quot;</td><td>0.869565</td><td>276</td></tr><tr><td>&quot;SAMUS&quot;</td><td>0.869091</td><td>275</td></tr><tr><td>&quot;YOSHI&quot;</td><td>0.827434</td><td>226</td></tr><tr><td>&quot;GAME_AND_WATCH…</td><td>0.892857</td><td>168</td></tr><tr><td>&quot;MARIO&quot;</td><td>0.875</td><td>120</td></tr><tr><td>&quot;MEWTWO&quot;</td><td>0.924528</td><td>106</td></tr><tr><td>&quot;ZELDA&quot;</td><td>0.817308</td><td>104</td></tr><tr><td>&quot;ROY&quot;</td><td>0.806122</td><td>98</td></tr><tr><td>&quot;DONKEY_KONG&quot;</td><td>0.826667</td><td>75</td></tr><tr><td>&quot;YOUNG_LINK&quot;</td><td>0.8</td><td>60</td></tr><tr><td>&quot;NESS&quot;</td><td>0.881356</td><td>59</td></tr><tr><td>&quot;ICE_CLIMBERS&quot;</td><td>0.75</td><td>56</td></tr><tr><td>&quot;PIKACHU&quot;</td><td>0.804348</td><td>46</td></tr><tr><td>&quot;KIRBY&quot;</td><td>0.916667</td><td>12</td></tr></tbody></table></div>"
      ],
      "text/plain": [
       "shape: (24, 3)\n",
       "┌────────────────┬──────────┬───────┐\n",
       "│ opnt_character ┆ l_cancel ┆ count │\n",
       "│ ---            ┆ ---      ┆ ---   │\n",
       "│ str            ┆ f64      ┆ u32   │\n",
       "╞════════════════╪══════════╪═══════╡\n",
       "│ FOX            ┆ 0.866252 ┆ 7073  │\n",
       "│ FALCO          ┆ 0.867229 ┆ 3909  │\n",
       "│ CAPTAIN_FALCON ┆ 0.880541 ┆ 3181  │\n",
       "│ MARTH          ┆ 0.864424 ┆ 2884  │\n",
       "│ …              ┆ …        ┆ …     │\n",
       "│ NESS           ┆ 0.881356 ┆ 59    │\n",
       "│ ICE_CLIMBERS   ┆ 0.75     ┆ 56    │\n",
       "│ PIKACHU        ┆ 0.804348 ┆ 46    │\n",
       "│ KIRBY          ┆ 0.916667 ┆ 12    │\n",
       "└────────────────┴──────────┴───────┘"
      ]
     },
     "execution_count": 6,
     "metadata": {},
     "output_type": "execute_result"
    }
   ],
   "source": [
    "( # L cancel percent by opponent character, sorted by number of l cancel occurances\n",
    "    l_cancel.filter(pl.col(\"character\") == \"FALCO\")\n",
    "    .groupby(pl.col(\"opnt_character\"))\n",
    "    .agg([pl.col(\"l_cancel\").mean(), pl.count()])\n",
    "    .sort(pl.col(\"count\"), descending=True)\n",
    ")"
   ]
  },
  {
   "cell_type": "code",
   "execution_count": 7,
   "metadata": {},
   "outputs": [
    {
     "data": {
      "text/html": [
       "<div><style>\n",
       ".dataframe > thead > tr > th,\n",
       ".dataframe > tbody > tr > td {\n",
       "  text-align: right;\n",
       "}\n",
       "</style>\n",
       "<small>shape: (4, 3)</small><table border=\"1\" class=\"dataframe\"><thead><tr><th>stocks_remaining</th><th>l_cancel</th><th>count</th></tr><tr><td>i64</td><td>f64</td><td>u32</td></tr></thead><tbody><tr><td>1</td><td>0.875221</td><td>3967</td></tr><tr><td>2</td><td>0.861803</td><td>5579</td></tr><tr><td>3</td><td>0.866894</td><td>6461</td></tr><tr><td>4</td><td>0.859475</td><td>6739</td></tr></tbody></table></div>"
      ],
      "text/plain": [
       "shape: (4, 3)\n",
       "┌──────────────────┬──────────┬───────┐\n",
       "│ stocks_remaining ┆ l_cancel ┆ count │\n",
       "│ ---              ┆ ---      ┆ ---   │\n",
       "│ i64              ┆ f64      ┆ u32   │\n",
       "╞══════════════════╪══════════╪═══════╡\n",
       "│ 1                ┆ 0.875221 ┆ 3967  │\n",
       "│ 2                ┆ 0.861803 ┆ 5579  │\n",
       "│ 3                ┆ 0.866894 ┆ 6461  │\n",
       "│ 4                ┆ 0.859475 ┆ 6739  │\n",
       "└──────────────────┴──────────┴───────┘"
      ]
     },
     "execution_count": 7,
     "metadata": {},
     "output_type": "execute_result"
    }
   ],
   "source": [
    "( # L cancel percentage by stocks remaining\n",
    "    l_cancel.filter(pl.col(\"character\") == \"FALCO\")\n",
    "    .groupby(pl.col(\"stocks_remaining\"))\n",
    "    .agg([pl.col(\"l_cancel\").mean(), pl.count()])\n",
    ")"
   ]
  }
 ],
 "metadata": {
  "kernelspec": {
   "display_name": "Python 3",
   "language": "python",
   "name": "python3"
  },
  "language_info": {
   "codemirror_mode": {
    "name": "ipython",
    "version": 3
   },
   "file_extension": ".py",
   "mimetype": "text/x-python",
   "name": "python",
   "nbconvert_exporter": "python",
   "pygments_lexer": "ipython3",
   "version": "3.11.2"
  },
  "orig_nbformat": 4
 },
 "nbformat": 4,
 "nbformat_minor": 2
}
