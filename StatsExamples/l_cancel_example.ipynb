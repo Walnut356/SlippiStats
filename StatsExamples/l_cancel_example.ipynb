{
 "cells": [
  {
   "cell_type": "code",
   "execution_count": 6,
   "metadata": {},
   "outputs": [
    {
     "data": {
      "text/plain": [
       "{'date_time': Datetime(time_unit='us', time_zone='America/Chicago'),\n",
       " 'slippi_version': Utf8,\n",
       " 'match_id': Utf8,\n",
       " 'match_type': Utf8,\n",
       " 'game_number': Int64,\n",
       " 'stage': Utf8,\n",
       " 'duration': Duration(time_unit='ms'),\n",
       " 'result': Utf8,\n",
       " 'port': Utf8,\n",
       " 'connect_code': Utf8,\n",
       " 'character': Utf8,\n",
       " 'costume': Utf8,\n",
       " 'opnt_character': Utf8,\n",
       " 'frame_index': Int64,\n",
       " 'stocks_remaining': Int64,\n",
       " 'l_cancel': Boolean,\n",
       " 'trigger_input_frame': Int64,\n",
       " 'during_hitlag': Boolean,\n",
       " 'move': Utf8,\n",
       " 'position': Utf8,\n",
       " 'fastfall': Boolean}"
      ]
     },
     "execution_count": 6,
     "metadata": {},
     "output_type": "execute_result"
    }
   ],
   "source": [
    "import polars as pl\n",
    "from pathlib import Path\n",
    "\n",
    "# stats generated from ~1300 replays from 1/1/2023 - 4/30/2023\n",
    "l_cancel = pl.read_parquet(Path(R\".\\Output\\l_cancels.parquet\"))\n",
    "l_cancel.schema"
   ]
  },
  {
   "cell_type": "code",
   "execution_count": 2,
   "metadata": {},
   "outputs": [
    {
     "data": {
      "text/html": [
       "<div><style>\n",
       ".dataframe > thead > tr > th,\n",
       ".dataframe > tbody > tr > td {\n",
       "  text-align: right;\n",
       "}\n",
       "</style>\n",
       "<small>shape: (2, 2)</small><table border=\"1\" class=\"dataframe\"><thead><tr><th>l_cancel</th><th>count</th></tr><tr><td>bool</td><td>u32</td></tr></thead><tbody><tr><td>false</td><td>2893</td></tr><tr><td>true</td><td>18645</td></tr></tbody></table></div>"
      ],
      "text/plain": [
       "shape: (2, 2)\n",
       "┌──────────┬───────┐\n",
       "│ l_cancel ┆ count │\n",
       "│ ---      ┆ ---   │\n",
       "│ bool     ┆ u32   │\n",
       "╞══════════╪═══════╡\n",
       "│ false    ┆ 2893  │\n",
       "│ true     ┆ 18645 │\n",
       "└──────────┴───────┘"
      ]
     },
     "execution_count": 2,
     "metadata": {},
     "output_type": "execute_result"
    }
   ],
   "source": [
    "# Total l cancels\n",
    "l_cancel.filter(pl.col(\"character\") == \"FALCO\").groupby(\"l_cancel\").agg(pl.count())"
   ]
  },
  {
   "cell_type": "code",
   "execution_count": 3,
   "metadata": {},
   "outputs": [
    {
     "data": {
      "text/html": [
       "<div><style>\n",
       ".dataframe > thead > tr > th,\n",
       ".dataframe > tbody > tr > td {\n",
       "  text-align: right;\n",
       "}\n",
       "</style>\n",
       "<small>shape: (4, 2)</small><table border=\"1\" class=\"dataframe\"><thead><tr><th>character</th><th>l_cancel</th></tr><tr><td>str</td><td>f64</td></tr></thead><tbody><tr><td>&quot;MARTH&quot;</td><td>0.817747</td></tr><tr><td>&quot;FOX&quot;</td><td>0.807692</td></tr><tr><td>&quot;CAPTAIN_FALCON…</td><td>0.808969</td></tr><tr><td>&quot;FALCO&quot;</td><td>0.865679</td></tr></tbody></table></div>"
      ],
      "text/plain": [
       "shape: (4, 2)\n",
       "┌────────────────┬──────────┐\n",
       "│ character      ┆ l_cancel │\n",
       "│ ---            ┆ ---      │\n",
       "│ str            ┆ f64      │\n",
       "╞════════════════╪══════════╡\n",
       "│ MARTH          ┆ 0.817747 │\n",
       "│ FOX            ┆ 0.807692 │\n",
       "│ CAPTAIN_FALCON ┆ 0.808969 │\n",
       "│ FALCO          ┆ 0.865679 │\n",
       "└────────────────┴──────────┘"
      ]
     },
     "execution_count": 3,
     "metadata": {},
     "output_type": "execute_result"
    }
   ],
   "source": [
    "# L cancel percent by character\n",
    "l_cancel.groupby(\"character\").agg(pl.col(\"l_cancel\").mean())"
   ]
  },
  {
   "cell_type": "code",
   "execution_count": 4,
   "metadata": {},
   "outputs": [
    {
     "data": {
      "text/html": [
       "<div><style>\n",
       ".dataframe > thead > tr > th,\n",
       ".dataframe > tbody > tr > td {\n",
       "  text-align: right;\n",
       "}\n",
       "</style>\n",
       "<small>shape: (5, 2)</small><table border=\"1\" class=\"dataframe\"><thead><tr><th>move</th><th>l_cancel</th></tr><tr><td>str</td><td>f64</td></tr></thead><tbody><tr><td>&quot;DAIR&quot;</td><td>0.873604</td></tr><tr><td>&quot;BAIR&quot;</td><td>0.78906</td></tr><tr><td>&quot;NAIR&quot;</td><td>0.904272</td></tr><tr><td>&quot;UAIR&quot;</td><td>0.864975</td></tr><tr><td>&quot;FAIR&quot;</td><td>0.822042</td></tr></tbody></table></div>"
      ],
      "text/plain": [
       "shape: (5, 2)\n",
       "┌──────┬──────────┐\n",
       "│ move ┆ l_cancel │\n",
       "│ ---  ┆ ---      │\n",
       "│ str  ┆ f64      │\n",
       "╞══════╪══════════╡\n",
       "│ DAIR ┆ 0.873604 │\n",
       "│ BAIR ┆ 0.78906  │\n",
       "│ NAIR ┆ 0.904272 │\n",
       "│ UAIR ┆ 0.864975 │\n",
       "│ FAIR ┆ 0.822042 │\n",
       "└──────┴──────────┘"
      ]
     },
     "execution_count": 4,
     "metadata": {},
     "output_type": "execute_result"
    }
   ],
   "source": [
    "# L cancel percentage by move\n",
    "l_cancel.filter(pl.col(\"character\") == \"FALCO\").groupby(pl.col(\"move\")).agg([pl.col(\"l_cancel\").mean()])"
   ]
  },
  {
   "cell_type": "code",
   "execution_count": 5,
   "metadata": {},
   "outputs": [
    {
     "data": {
      "text/html": [
       "<div><style>\n",
       ".dataframe > thead > tr > th,\n",
       ".dataframe > tbody > tr > td {\n",
       "  text-align: right;\n",
       "}\n",
       "</style>\n",
       "<small>shape: (6, 3)</small><table border=\"1\" class=\"dataframe\"><thead><tr><th>position</th><th>l_cancel</th><th>count</th></tr><tr><td>str</td><td>f64</td><td>u32</td></tr></thead><tbody><tr><td>&quot;RANDALL&quot;</td><td>0.375</td><td>8</td></tr><tr><td>&quot;TOP_PLATFOMR&quot;</td><td>0.641791</td><td>201</td></tr><tr><td>&quot;TOP_PLATFORM&quot;</td><td>0.686179</td><td>615</td></tr><tr><td>&quot;LEFT_PLATFORM&quot;</td><td>0.677</td><td>1000</td></tr><tr><td>&quot;RIGHT_PLATFORM…</td><td>0.704312</td><td>974</td></tr><tr><td>&quot;MAIN_STAGE&quot;</td><td>0.892636</td><td>18740</td></tr></tbody></table></div>"
      ],
      "text/plain": [
       "shape: (6, 3)\n",
       "┌────────────────┬──────────┬───────┐\n",
       "│ position       ┆ l_cancel ┆ count │\n",
       "│ ---            ┆ ---      ┆ ---   │\n",
       "│ str            ┆ f64      ┆ u32   │\n",
       "╞════════════════╪══════════╪═══════╡\n",
       "│ RANDALL        ┆ 0.375    ┆ 8     │\n",
       "│ TOP_PLATFOMR   ┆ 0.641791 ┆ 201   │\n",
       "│ TOP_PLATFORM   ┆ 0.686179 ┆ 615   │\n",
       "│ LEFT_PLATFORM  ┆ 0.677    ┆ 1000  │\n",
       "│ RIGHT_PLATFORM ┆ 0.704312 ┆ 974   │\n",
       "│ MAIN_STAGE     ┆ 0.892636 ┆ 18740 │\n",
       "└────────────────┴──────────┴───────┘"
      ]
     },
     "execution_count": 5,
     "metadata": {},
     "output_type": "execute_result"
    }
   ],
   "source": [
    "( # l cancel percentage based on landing location\n",
    "    l_cancel.filter(pl.col(\"character\") == \"FALCO\")\n",
    "    .groupby(pl.col(\"position\"))\n",
    "    .agg([pl.col(\"l_cancel\").mean(), pl.count()])\n",
    ")"
   ]
  },
  {
   "cell_type": "code",
   "execution_count": 7,
   "metadata": {},
   "outputs": [
    {
     "data": {
      "text/html": [
       "<div><style>\n",
       ".dataframe > thead > tr > th,\n",
       ".dataframe > tbody > tr > td {\n",
       "  text-align: right;\n",
       "}\n",
       "</style>\n",
       "<small>shape: (24, 3)</small><table border=\"1\" class=\"dataframe\"><thead><tr><th>opnt_character</th><th>l_cancel</th><th>count</th></tr><tr><td>str</td><td>f64</td><td>u32</td></tr></thead><tbody><tr><td>&quot;FOX&quot;</td><td>0.86773</td><td>6774</td></tr><tr><td>&quot;FALCO&quot;</td><td>0.86747</td><td>3652</td></tr><tr><td>&quot;MARTH&quot;</td><td>0.865618</td><td>2798</td></tr><tr><td>&quot;CAPTAIN_FALCON…</td><td>0.882417</td><td>2764</td></tr><tr><td>&quot;SHEIK&quot;</td><td>0.837912</td><td>1820</td></tr><tr><td>&quot;PEACH&quot;</td><td>0.855053</td><td>752</td></tr><tr><td>&quot;LUIGI&quot;</td><td>0.87062</td><td>371</td></tr><tr><td>&quot;DR_MARIO&quot;</td><td>0.87027</td><td>370</td></tr><tr><td>&quot;JIGGLYPUFF&quot;</td><td>0.848101</td><td>316</td></tr><tr><td>&quot;LINK&quot;</td><td>0.910345</td><td>290</td></tr><tr><td>&quot;GANONDORF&quot;</td><td>0.869565</td><td>276</td></tr><tr><td>&quot;SAMUS&quot;</td><td>0.869091</td><td>275</td></tr><tr><td>&quot;YOSHI&quot;</td><td>0.823864</td><td>176</td></tr><tr><td>&quot;GAME_AND_WATCH…</td><td>0.892857</td><td>168</td></tr><tr><td>&quot;MARIO&quot;</td><td>0.875</td><td>120</td></tr><tr><td>&quot;MEWTWO&quot;</td><td>0.924528</td><td>106</td></tr><tr><td>&quot;ZELDA&quot;</td><td>0.817308</td><td>104</td></tr><tr><td>&quot;ROY&quot;</td><td>0.806122</td><td>98</td></tr><tr><td>&quot;DONKEY_KONG&quot;</td><td>0.826667</td><td>75</td></tr><tr><td>&quot;YOUNG_LINK&quot;</td><td>0.8</td><td>60</td></tr><tr><td>&quot;NESS&quot;</td><td>0.881356</td><td>59</td></tr><tr><td>&quot;ICE_CLIMBERS&quot;</td><td>0.75</td><td>56</td></tr><tr><td>&quot;PIKACHU&quot;</td><td>0.804348</td><td>46</td></tr><tr><td>&quot;KIRBY&quot;</td><td>0.916667</td><td>12</td></tr></tbody></table></div>"
      ],
      "text/plain": [
       "shape: (24, 3)\n",
       "┌────────────────┬──────────┬───────┐\n",
       "│ opnt_character ┆ l_cancel ┆ count │\n",
       "│ ---            ┆ ---      ┆ ---   │\n",
       "│ str            ┆ f64      ┆ u32   │\n",
       "╞════════════════╪══════════╪═══════╡\n",
       "│ FOX            ┆ 0.86773  ┆ 6774  │\n",
       "│ FALCO          ┆ 0.86747  ┆ 3652  │\n",
       "│ MARTH          ┆ 0.865618 ┆ 2798  │\n",
       "│ CAPTAIN_FALCON ┆ 0.882417 ┆ 2764  │\n",
       "│ …              ┆ …        ┆ …     │\n",
       "│ NESS           ┆ 0.881356 ┆ 59    │\n",
       "│ ICE_CLIMBERS   ┆ 0.75     ┆ 56    │\n",
       "│ PIKACHU        ┆ 0.804348 ┆ 46    │\n",
       "│ KIRBY          ┆ 0.916667 ┆ 12    │\n",
       "└────────────────┴──────────┴───────┘"
      ]
     },
     "execution_count": 7,
     "metadata": {},
     "output_type": "execute_result"
    }
   ],
   "source": [
    "( # L cancel percent by opponent character, sorted by number of l cancel occurances\n",
    "    l_cancel.filter(pl.col(\"character\") == \"FALCO\")\n",
    "    .groupby(pl.col(\"opnt_character\"))\n",
    "    .agg([pl.col(\"l_cancel\").mean(), pl.count()])\n",
    "    .sort(pl.col(\"count\"), descending=True)\n",
    ")"
   ]
  },
  {
   "cell_type": "code",
   "execution_count": 8,
   "metadata": {},
   "outputs": [
    {
     "data": {
      "text/html": [
       "<div><style>\n",
       ".dataframe > thead > tr > th,\n",
       ".dataframe > tbody > tr > td {\n",
       "  text-align: right;\n",
       "}\n",
       "</style>\n",
       "<small>shape: (4, 3)</small><table border=\"1\" class=\"dataframe\"><thead><tr><th>stocks_remaining</th><th>l_cancel</th><th>count</th></tr><tr><td>i64</td><td>f64</td><td>u32</td></tr></thead><tbody><tr><td>1</td><td>0.875435</td><td>3733</td></tr><tr><td>2</td><td>0.865706</td><td>5272</td></tr><tr><td>3</td><td>0.866884</td><td>6130</td></tr><tr><td>4</td><td>0.858816</td><td>6403</td></tr></tbody></table></div>"
      ],
      "text/plain": [
       "shape: (4, 3)\n",
       "┌──────────────────┬──────────┬───────┐\n",
       "│ stocks_remaining ┆ l_cancel ┆ count │\n",
       "│ ---              ┆ ---      ┆ ---   │\n",
       "│ i64              ┆ f64      ┆ u32   │\n",
       "╞══════════════════╪══════════╪═══════╡\n",
       "│ 1                ┆ 0.875435 ┆ 3733  │\n",
       "│ 2                ┆ 0.865706 ┆ 5272  │\n",
       "│ 3                ┆ 0.866884 ┆ 6130  │\n",
       "│ 4                ┆ 0.858816 ┆ 6403  │\n",
       "└──────────────────┴──────────┴───────┘"
      ]
     },
     "execution_count": 8,
     "metadata": {},
     "output_type": "execute_result"
    }
   ],
   "source": [
    "( # L cancel percentage by stocks remaining\n",
    "    l_cancel.filter(pl.col(\"character\") == \"FALCO\")\n",
    "    .groupby(pl.col(\"stocks_remaining\"))\n",
    "    .agg([pl.col(\"l_cancel\").mean(), pl.count()])\n",
    ")"
   ]
  }
 ],
 "metadata": {
  "kernelspec": {
   "display_name": "Python 3",
   "language": "python",
   "name": "python3"
  },
  "language_info": {
   "codemirror_mode": {
    "name": "ipython",
    "version": 3
   },
   "file_extension": ".py",
   "mimetype": "text/x-python",
   "name": "python",
   "nbconvert_exporter": "python",
   "pygments_lexer": "ipython3",
   "version": "3.11.2"
  },
  "orig_nbformat": 4
 },
 "nbformat": 4,
 "nbformat_minor": 2
}
