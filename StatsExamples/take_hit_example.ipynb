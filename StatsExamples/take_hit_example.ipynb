{
 "cells": [
  {
   "cell_type": "code",
   "execution_count": 12,
   "metadata": {},
   "outputs": [
    {
     "data": {
      "text/plain": [
       "{'date_time': Datetime(time_unit='us', time_zone='America/Chicago'),\n",
       " 'slippi_version': Utf8,\n",
       " 'match_id': Utf8,\n",
       " 'match_type': Utf8,\n",
       " 'game_number': Int64,\n",
       " 'stage': Utf8,\n",
       " 'duration': Duration(time_unit='ms'),\n",
       " 'result': Utf8,\n",
       " 'port': Utf8,\n",
       " 'connect_code': Utf8,\n",
       " 'character': Utf8,\n",
       " 'costume': Utf8,\n",
       " 'opnt_character': Utf8,\n",
       " 'frame_index': Int64,\n",
       " 'stocks_remaining': Int64,\n",
       " 'grounded': Boolean,\n",
       " 'percent': Float64,\n",
       " 'last_hit_by': Utf8,\n",
       " 'state_before_hit': Utf8,\n",
       " 'crouch_cancel': Boolean,\n",
       " 'hitlag_frames': Int64,\n",
       " 'stick_regions_during_hitlag': List(Utf8),\n",
       " 'sdi_inputs': List(Utf8),\n",
       " 'asdi': Utf8,\n",
       " 'start_pos': List(Float64),\n",
       " 'end_pos': List(Float64),\n",
       " 'kb_angle': Float64,\n",
       " 'di_stick_pos': List(Float64),\n",
       " 'di_efficacy': Float64,\n",
       " 'final_kb_angle': Float64,\n",
       " 'kb_velocity': List(Float64),\n",
       " 'final_kb_velocity': List(Float64)}"
      ]
     },
     "execution_count": 12,
     "metadata": {},
     "output_type": "execute_result"
    }
   ],
   "source": [
    "import polars as pl\n",
    "from pathlib import Path\n",
    "\n",
    "# stats generated from ~1300 replays from 1/1/2023 - 4/30/2023\n",
    "take_hit = pl.read_parquet(Path(R\"./Output/take_hits.parquet\"))\n",
    "pl.Config.set_tbl_rows(-1)\n",
    "take_hit.schema"
   ]
  },
  {
   "attachments": {},
   "cell_type": "markdown",
   "metadata": {},
   "source": [
    "In this section, I'm going to restrict it to Falco vs Fox to help keep the output understandable, but know that this could be applied to any character or group of characters"
   ]
  },
  {
   "cell_type": "code",
   "execution_count": 13,
   "metadata": {},
   "outputs": [
    {
     "name": "stdout",
     "output_type": "stream",
     "text": [
      "shape: (26, 2)\n",
      "┌──────────────────────────┬───────┐\n",
      "│ last_hit_by              ┆ count │\n",
      "│ ---                      ┆ ---   │\n",
      "│ str                      ┆ u32   │\n",
      "╞══════════════════════════╪═══════╡\n",
      "│ DOWN_SPECIAL             ┆ 1758  │\n",
      "│ BAIR                     ┆ 1704  │\n",
      "│ DAIR                     ┆ 1613  │\n",
      "│ NAIR                     ┆ 1088  │\n",
      "│ UAIR                     ┆ 623   │\n",
      "│ UP_SMASH                 ┆ 586   │\n",
      "│ UP_TILT                  ┆ 482   │\n",
      "│ JAB_1                    ┆ 363   │\n",
      "│ DASH_ATTACK              ┆ 352   │\n",
      "│ UP_SPECIAL               ┆ 162   │\n",
      "│ PUMMEL                   ┆ 151   │\n",
      "│ FAIR                     ┆ 142   │\n",
      "│ SIDE_SPECIAL             ┆ 124   │\n",
      "│ NEUTRAL_SPECIAL          ┆ 107   │\n",
      "│ DOWN_TILT                ┆ 76    │\n",
      "│ SIDE_TILT                ┆ 68    │\n",
      "│ JAB_2                    ┆ 66    │\n",
      "│ SIDE_SMASH               ┆ 61    │\n",
      "│ FORWARD_THROW            ┆ 53    │\n",
      "│ GET_UP_ATTACK_FROM_BACK  ┆ 45    │\n",
      "│ GET_UP_ATTACK_FROM_FRONT ┆ 27    │\n",
      "│ DOWN_SMASH               ┆ 23    │\n",
      "│ RAPID_JABS               ┆ 23    │\n",
      "│ LEDGE_GET_UP_ATTACK      ┆ 12    │\n",
      "│ LEDGE_GET_UP_ATTACK_100  ┆ 7     │\n",
      "│ UP_THROW                 ┆ 1     │\n",
      "└──────────────────────────┴───────┘\n"
     ]
    }
   ],
   "source": [
    "fox_moves = (take_hit.filter((pl.col(\"character\") == \"FALCO\") & (pl.col(\"opnt_character\") == \"FOX\"))\n",
    "    .groupby(pl.col(\"last_hit_by\"))\n",
    "    .agg([pl.count()])\n",
    "    .sort(pl.col(\"count\"), descending=True)\n",
    ")\n",
    "print(fox_moves)"
   ]
  },
  {
   "attachments": {},
   "cell_type": "markdown",
   "metadata": {},
   "source": [
    "That's a lot of information. It also highlights a small bug in the parsing logic, which is fox's up throw being counted inaccurately. "
   ]
  },
  {
   "cell_type": "code",
   "execution_count": 17,
   "metadata": {},
   "outputs": [
    {
     "name": "stdout",
     "output_type": "stream",
     "text": [
      "shape: (24, 2)\n",
      "┌─────────────────────────┬───────┐\n",
      "│ last_hit_by             ┆ count │\n",
      "│ ---                     ┆ ---   │\n",
      "│ str                     ┆ u32   │\n",
      "╞═════════════════════════╪═══════╡\n",
      "│ NAIR                    ┆ 177   │\n",
      "│ BAIR                    ┆ 117   │\n",
      "│ DOWN_SMASH              ┆ 106   │\n",
      "│ DAIR                    ┆ 98    │\n",
      "│ DASH_ATTACK             ┆ 87    │\n",
      "│ UP_SPECIAL              ┆ 74    │\n",
      "│ UP_THROW                ┆ 56    │\n",
      "│ PUMMEL                  ┆ 55    │\n",
      "│ FAIR                    ┆ 44    │\n",
      "│ UAIR                    ┆ 43    │\n",
      "│ JAB_1                   ┆ 41    │\n",
      "│ NON_STALING             ┆ 39    │\n",
      "│ JAB_2                   ┆ 30    │\n",
      "│ FORWARD_THROW           ┆ 25    │\n",
      "│ NEUTRAL_SPECIAL         ┆ 23    │\n",
      "│ BACK_THROW              ┆ 18    │\n",
      "│ GET_UP_ATTACK_FROM_BACK ┆ 7     │\n",
      "│ OPEN_PARASOL            ┆ 7     │\n",
      "│ SIDE_TILT               ┆ 7     │\n",
      "│ UP_SMASH                ┆ 3     │\n",
      "│ LEDGE_GET_UP_ATTACK     ┆ 3     │\n",
      "│ LEDGE_GET_UP_ATTACK_100 ┆ 2     │\n",
      "│ SIDE_SMASH              ┆ 1     │\n",
      "│ DOWN_TILT               ┆ 1     │\n",
      "└─────────────────────────┴───────┘\n"
     ]
    }
   ],
   "source": [
    "_moves = (take_hit.filter((pl.col(\"character\") == \"FALCO\") & (pl.col(\"opnt_character\") == \"PEACH\"))\n",
    "    .groupby(pl.col(\"last_hit_by\"))\n",
    "    .agg([pl.count()])\n",
    "    .sort(pl.col(\"count\"), descending=True)\n",
    ")\n",
    "print(_moves)"
   ]
  }
 ],
 "metadata": {
  "kernelspec": {
   "display_name": "Python 3",
   "language": "python",
   "name": "python3"
  },
  "language_info": {
   "codemirror_mode": {
    "name": "ipython",
    "version": 3
   },
   "file_extension": ".py",
   "mimetype": "text/x-python",
   "name": "python",
   "nbconvert_exporter": "python",
   "pygments_lexer": "ipython3",
   "version": "3.10.4"
  },
  "orig_nbformat": 4
 },
 "nbformat": 4,
 "nbformat_minor": 2
}
